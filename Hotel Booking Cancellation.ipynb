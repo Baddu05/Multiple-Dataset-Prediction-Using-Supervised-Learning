{
 "cells": [
  {
   "cell_type": "code",
   "execution_count": 1,
   "metadata": {},
   "outputs": [],
   "source": [
    "# Data Manipulation\n",
    "import numpy as np\n",
    "import pandas as pd\n",
    "\n",
    "# Visualization \n",
    "import matplotlib.pyplot as plt\n",
    "import missingno\n",
    "import seaborn as sns\n",
    "plt.style.use('seaborn-whitegrid')\n",
    "\n",
    "# Preprocessing\n",
    "from sklearn.preprocessing import OneHotEncoder, LabelEncoder, label_binarize\n",
    "\n",
    "# Machine learning Models\n",
    "from sklearn.model_selection import train_test_split\n",
    "from sklearn import model_selection, tree, preprocessing, metrics, linear_model\n",
    "from sklearn.svm import LinearSVC\n",
    "from sklearn.ensemble import GradientBoostingClassifier\n",
    "from sklearn.neighbors import KNeighborsClassifier\n",
    "from sklearn.naive_bayes import GaussianNB\n",
    "from sklearn.linear_model import LinearRegression, LogisticRegression, SGDClassifier\n",
    "from sklearn.tree import DecisionTreeClassifier\n",
    "\n",
    "# ignore warnings\n",
    "import warnings\n",
    "warnings.filterwarnings('ignore')"
   ]
  },
  {
   "cell_type": "markdown",
   "metadata": {},
   "source": [
    "## Reading the Data"
   ]
  },
  {
   "cell_type": "code",
   "execution_count": 2,
   "metadata": {},
   "outputs": [
    {
     "data": {
      "text/plain": [
       "32"
      ]
     },
     "execution_count": 2,
     "metadata": {},
     "output_type": "execute_result"
    }
   ],
   "source": [
    "hotel_df = pd.read_csv('hotel_bookings.csv')\n",
    "len(hotel_df.columns)"
   ]
  },
  {
   "cell_type": "code",
   "execution_count": 3,
   "metadata": {},
   "outputs": [
    {
     "data": {
      "text/plain": [
       "(119390, 32)"
      ]
     },
     "execution_count": 3,
     "metadata": {},
     "output_type": "execute_result"
    }
   ],
   "source": [
    "hotel_df.shape"
   ]
  },
  {
   "cell_type": "code",
   "execution_count": 4,
   "metadata": {},
   "outputs": [
    {
     "data": {
      "text/plain": [
       "['Categorical',\n",
       " 'Target Variable(Numerical)',\n",
       " 'Numerical',\n",
       " 'Numerical',\n",
       " 'Categorical',\n",
       " 'Numerical',\n",
       " 'Numerical',\n",
       " 'Numerical',\n",
       " 'Numerical',\n",
       " 'Numerical',\n",
       " 'Numerical',\n",
       " 'Numerical',\n",
       " 'Categorical',\n",
       " 'Categorical',\n",
       " 'Categorical',\n",
       " 'Categorical',\n",
       " 'Numerical',\n",
       " 'Numerical',\n",
       " 'Numerical',\n",
       " 'Categorical',\n",
       " 'Categorical',\n",
       " 'Numerical',\n",
       " 'Categorical',\n",
       " 'Numerical',\n",
       " 'Numerical',\n",
       " 'Numerical',\n",
       " 'Categorical',\n",
       " 'Numerical',\n",
       " 'Numerical',\n",
       " 'Numerical',\n",
       " 'Categorical',\n",
       " 'Categorical']"
      ]
     },
     "execution_count": 4,
     "metadata": {},
     "output_type": "execute_result"
    }
   ],
   "source": [
    "description = ['Categorical','Target Variable(Numerical)','Numerical','Numerical','Categorical',\n",
    "               'Numerical','Numerical','Numerical','Numerical','Numerical','Numerical','Numerical',\n",
    "               'Categorical','Categorical','Categorical','Categorical',\n",
    "               'Numerical','Numerical','Numerical','Categorical','Categorical','Numerical','Categorical','Numerical',\n",
    "               'Numerical','Numerical','Categorical','Numerical','Numerical','Numerical','Categorical','Categorical']\n",
    "description"
   ]
  },
  {
   "cell_type": "code",
   "execution_count": 5,
   "metadata": {},
   "outputs": [
    {
     "data": {
      "text/html": [
       "<div>\n",
       "<style scoped>\n",
       "    .dataframe tbody tr th:only-of-type {\n",
       "        vertical-align: middle;\n",
       "    }\n",
       "\n",
       "    .dataframe tbody tr th {\n",
       "        vertical-align: top;\n",
       "    }\n",
       "\n",
       "    .dataframe thead th {\n",
       "        text-align: right;\n",
       "    }\n",
       "</style>\n",
       "<table border=\"1\" class=\"dataframe\">\n",
       "  <thead>\n",
       "    <tr style=\"text-align: right;\">\n",
       "      <th></th>\n",
       "      <th>Columns</th>\n",
       "      <th>Data Type</th>\n",
       "      <th>Description</th>\n",
       "    </tr>\n",
       "  </thead>\n",
       "  <tbody>\n",
       "    <tr>\n",
       "      <th>hotel</th>\n",
       "      <td>hotel</td>\n",
       "      <td>object</td>\n",
       "      <td>Categorical</td>\n",
       "    </tr>\n",
       "    <tr>\n",
       "      <th>is_canceled</th>\n",
       "      <td>is_canceled</td>\n",
       "      <td>int64</td>\n",
       "      <td>Target Variable(Numerical)</td>\n",
       "    </tr>\n",
       "    <tr>\n",
       "      <th>lead_time</th>\n",
       "      <td>lead_time</td>\n",
       "      <td>int64</td>\n",
       "      <td>Numerical</td>\n",
       "    </tr>\n",
       "    <tr>\n",
       "      <th>arrival_date_year</th>\n",
       "      <td>arrival_date_year</td>\n",
       "      <td>int64</td>\n",
       "      <td>Numerical</td>\n",
       "    </tr>\n",
       "    <tr>\n",
       "      <th>arrival_date_month</th>\n",
       "      <td>arrival_date_month</td>\n",
       "      <td>object</td>\n",
       "      <td>Categorical</td>\n",
       "    </tr>\n",
       "    <tr>\n",
       "      <th>arrival_date_week_number</th>\n",
       "      <td>arrival_date_week_number</td>\n",
       "      <td>int64</td>\n",
       "      <td>Numerical</td>\n",
       "    </tr>\n",
       "    <tr>\n",
       "      <th>arrival_date_day_of_month</th>\n",
       "      <td>arrival_date_day_of_month</td>\n",
       "      <td>int64</td>\n",
       "      <td>Numerical</td>\n",
       "    </tr>\n",
       "    <tr>\n",
       "      <th>stays_in_weekend_nights</th>\n",
       "      <td>stays_in_weekend_nights</td>\n",
       "      <td>int64</td>\n",
       "      <td>Numerical</td>\n",
       "    </tr>\n",
       "    <tr>\n",
       "      <th>stays_in_week_nights</th>\n",
       "      <td>stays_in_week_nights</td>\n",
       "      <td>int64</td>\n",
       "      <td>Numerical</td>\n",
       "    </tr>\n",
       "    <tr>\n",
       "      <th>adults</th>\n",
       "      <td>adults</td>\n",
       "      <td>int64</td>\n",
       "      <td>Numerical</td>\n",
       "    </tr>\n",
       "    <tr>\n",
       "      <th>children</th>\n",
       "      <td>children</td>\n",
       "      <td>float64</td>\n",
       "      <td>Numerical</td>\n",
       "    </tr>\n",
       "    <tr>\n",
       "      <th>babies</th>\n",
       "      <td>babies</td>\n",
       "      <td>int64</td>\n",
       "      <td>Numerical</td>\n",
       "    </tr>\n",
       "    <tr>\n",
       "      <th>meal</th>\n",
       "      <td>meal</td>\n",
       "      <td>object</td>\n",
       "      <td>Categorical</td>\n",
       "    </tr>\n",
       "    <tr>\n",
       "      <th>country</th>\n",
       "      <td>country</td>\n",
       "      <td>object</td>\n",
       "      <td>Categorical</td>\n",
       "    </tr>\n",
       "    <tr>\n",
       "      <th>market_segment</th>\n",
       "      <td>market_segment</td>\n",
       "      <td>object</td>\n",
       "      <td>Categorical</td>\n",
       "    </tr>\n",
       "    <tr>\n",
       "      <th>distribution_channel</th>\n",
       "      <td>distribution_channel</td>\n",
       "      <td>object</td>\n",
       "      <td>Categorical</td>\n",
       "    </tr>\n",
       "    <tr>\n",
       "      <th>is_repeated_guest</th>\n",
       "      <td>is_repeated_guest</td>\n",
       "      <td>int64</td>\n",
       "      <td>Numerical</td>\n",
       "    </tr>\n",
       "    <tr>\n",
       "      <th>previous_cancellations</th>\n",
       "      <td>previous_cancellations</td>\n",
       "      <td>int64</td>\n",
       "      <td>Numerical</td>\n",
       "    </tr>\n",
       "    <tr>\n",
       "      <th>previous_bookings_not_canceled</th>\n",
       "      <td>previous_bookings_not_canceled</td>\n",
       "      <td>int64</td>\n",
       "      <td>Numerical</td>\n",
       "    </tr>\n",
       "    <tr>\n",
       "      <th>reserved_room_type</th>\n",
       "      <td>reserved_room_type</td>\n",
       "      <td>object</td>\n",
       "      <td>Categorical</td>\n",
       "    </tr>\n",
       "    <tr>\n",
       "      <th>assigned_room_type</th>\n",
       "      <td>assigned_room_type</td>\n",
       "      <td>object</td>\n",
       "      <td>Categorical</td>\n",
       "    </tr>\n",
       "    <tr>\n",
       "      <th>booking_changes</th>\n",
       "      <td>booking_changes</td>\n",
       "      <td>int64</td>\n",
       "      <td>Numerical</td>\n",
       "    </tr>\n",
       "    <tr>\n",
       "      <th>deposit_type</th>\n",
       "      <td>deposit_type</td>\n",
       "      <td>object</td>\n",
       "      <td>Categorical</td>\n",
       "    </tr>\n",
       "    <tr>\n",
       "      <th>agent</th>\n",
       "      <td>agent</td>\n",
       "      <td>float64</td>\n",
       "      <td>Numerical</td>\n",
       "    </tr>\n",
       "    <tr>\n",
       "      <th>company</th>\n",
       "      <td>company</td>\n",
       "      <td>float64</td>\n",
       "      <td>Numerical</td>\n",
       "    </tr>\n",
       "    <tr>\n",
       "      <th>days_in_waiting_list</th>\n",
       "      <td>days_in_waiting_list</td>\n",
       "      <td>int64</td>\n",
       "      <td>Numerical</td>\n",
       "    </tr>\n",
       "    <tr>\n",
       "      <th>customer_type</th>\n",
       "      <td>customer_type</td>\n",
       "      <td>object</td>\n",
       "      <td>Categorical</td>\n",
       "    </tr>\n",
       "    <tr>\n",
       "      <th>adr</th>\n",
       "      <td>adr</td>\n",
       "      <td>float64</td>\n",
       "      <td>Numerical</td>\n",
       "    </tr>\n",
       "    <tr>\n",
       "      <th>required_car_parking_spaces</th>\n",
       "      <td>required_car_parking_spaces</td>\n",
       "      <td>int64</td>\n",
       "      <td>Numerical</td>\n",
       "    </tr>\n",
       "    <tr>\n",
       "      <th>total_of_special_requests</th>\n",
       "      <td>total_of_special_requests</td>\n",
       "      <td>int64</td>\n",
       "      <td>Numerical</td>\n",
       "    </tr>\n",
       "    <tr>\n",
       "      <th>reservation_status</th>\n",
       "      <td>reservation_status</td>\n",
       "      <td>object</td>\n",
       "      <td>Categorical</td>\n",
       "    </tr>\n",
       "    <tr>\n",
       "      <th>reservation_status_date</th>\n",
       "      <td>reservation_status_date</td>\n",
       "      <td>object</td>\n",
       "      <td>Categorical</td>\n",
       "    </tr>\n",
       "  </tbody>\n",
       "</table>\n",
       "</div>"
      ],
      "text/plain": [
       "                                                       Columns Data Type  \\\n",
       "hotel                                                    hotel    object   \n",
       "is_canceled                                        is_canceled     int64   \n",
       "lead_time                                            lead_time     int64   \n",
       "arrival_date_year                            arrival_date_year     int64   \n",
       "arrival_date_month                          arrival_date_month    object   \n",
       "arrival_date_week_number              arrival_date_week_number     int64   \n",
       "arrival_date_day_of_month            arrival_date_day_of_month     int64   \n",
       "stays_in_weekend_nights                stays_in_weekend_nights     int64   \n",
       "stays_in_week_nights                      stays_in_week_nights     int64   \n",
       "adults                                                  adults     int64   \n",
       "children                                              children   float64   \n",
       "babies                                                  babies     int64   \n",
       "meal                                                      meal    object   \n",
       "country                                                country    object   \n",
       "market_segment                                  market_segment    object   \n",
       "distribution_channel                      distribution_channel    object   \n",
       "is_repeated_guest                            is_repeated_guest     int64   \n",
       "previous_cancellations                  previous_cancellations     int64   \n",
       "previous_bookings_not_canceled  previous_bookings_not_canceled     int64   \n",
       "reserved_room_type                          reserved_room_type    object   \n",
       "assigned_room_type                          assigned_room_type    object   \n",
       "booking_changes                                booking_changes     int64   \n",
       "deposit_type                                      deposit_type    object   \n",
       "agent                                                    agent   float64   \n",
       "company                                                company   float64   \n",
       "days_in_waiting_list                      days_in_waiting_list     int64   \n",
       "customer_type                                    customer_type    object   \n",
       "adr                                                        adr   float64   \n",
       "required_car_parking_spaces        required_car_parking_spaces     int64   \n",
       "total_of_special_requests            total_of_special_requests     int64   \n",
       "reservation_status                          reservation_status    object   \n",
       "reservation_status_date                reservation_status_date    object   \n",
       "\n",
       "                                               Description  \n",
       "hotel                                          Categorical  \n",
       "is_canceled                     Target Variable(Numerical)  \n",
       "lead_time                                        Numerical  \n",
       "arrival_date_year                                Numerical  \n",
       "arrival_date_month                             Categorical  \n",
       "arrival_date_week_number                         Numerical  \n",
       "arrival_date_day_of_month                        Numerical  \n",
       "stays_in_weekend_nights                          Numerical  \n",
       "stays_in_week_nights                             Numerical  \n",
       "adults                                           Numerical  \n",
       "children                                         Numerical  \n",
       "babies                                           Numerical  \n",
       "meal                                           Categorical  \n",
       "country                                        Categorical  \n",
       "market_segment                                 Categorical  \n",
       "distribution_channel                           Categorical  \n",
       "is_repeated_guest                                Numerical  \n",
       "previous_cancellations                           Numerical  \n",
       "previous_bookings_not_canceled                   Numerical  \n",
       "reserved_room_type                             Categorical  \n",
       "assigned_room_type                             Categorical  \n",
       "booking_changes                                  Numerical  \n",
       "deposit_type                                   Categorical  \n",
       "agent                                            Numerical  \n",
       "company                                          Numerical  \n",
       "days_in_waiting_list                             Numerical  \n",
       "customer_type                                  Categorical  \n",
       "adr                                              Numerical  \n",
       "required_car_parking_spaces                      Numerical  \n",
       "total_of_special_requests                        Numerical  \n",
       "reservation_status                             Categorical  \n",
       "reservation_status_date                        Categorical  "
      ]
     },
     "execution_count": 5,
     "metadata": {},
     "output_type": "execute_result"
    }
   ],
   "source": [
    "pd.DataFrame({'Columns': hotel_df.columns,'Data Type' : hotel_df.dtypes,'Description': description})\n"
   ]
  },
  {
   "cell_type": "code",
   "execution_count": 6,
   "metadata": {},
   "outputs": [
    {
     "data": {
      "text/plain": [
       "Index(['hotel', 'is_canceled', 'lead_time', 'arrival_date_year',\n",
       "       'arrival_date_month', 'arrival_date_week_number',\n",
       "       'arrival_date_day_of_month', 'stays_in_weekend_nights',\n",
       "       'stays_in_week_nights', 'adults', 'children', 'babies', 'meal',\n",
       "       'country', 'market_segment', 'distribution_channel',\n",
       "       'is_repeated_guest', 'previous_cancellations',\n",
       "       'previous_bookings_not_canceled', 'reserved_room_type',\n",
       "       'assigned_room_type', 'booking_changes', 'deposit_type', 'agent',\n",
       "       'company', 'days_in_waiting_list', 'customer_type', 'adr',\n",
       "       'required_car_parking_spaces', 'total_of_special_requests',\n",
       "       'reservation_status', 'reservation_status_date'],\n",
       "      dtype='object')"
      ]
     },
     "execution_count": 6,
     "metadata": {},
     "output_type": "execute_result"
    }
   ],
   "source": [
    "hotel_df.columns"
   ]
  },
  {
   "cell_type": "code",
   "execution_count": 7,
   "metadata": {},
   "outputs": [
    {
     "data": {
      "text/html": [
       "<div>\n",
       "<style scoped>\n",
       "    .dataframe tbody tr th:only-of-type {\n",
       "        vertical-align: middle;\n",
       "    }\n",
       "\n",
       "    .dataframe tbody tr th {\n",
       "        vertical-align: top;\n",
       "    }\n",
       "\n",
       "    .dataframe thead th {\n",
       "        text-align: right;\n",
       "    }\n",
       "</style>\n",
       "<table border=\"1\" class=\"dataframe\">\n",
       "  <thead>\n",
       "    <tr style=\"text-align: right;\">\n",
       "      <th></th>\n",
       "      <th>count</th>\n",
       "      <th>mean</th>\n",
       "      <th>std</th>\n",
       "      <th>min</th>\n",
       "      <th>25%</th>\n",
       "      <th>50%</th>\n",
       "      <th>75%</th>\n",
       "      <th>max</th>\n",
       "    </tr>\n",
       "  </thead>\n",
       "  <tbody>\n",
       "    <tr>\n",
       "      <th>is_canceled</th>\n",
       "      <td>119390.0</td>\n",
       "      <td>0.370416</td>\n",
       "      <td>0.482918</td>\n",
       "      <td>0.00</td>\n",
       "      <td>0.00</td>\n",
       "      <td>0.000</td>\n",
       "      <td>1.0</td>\n",
       "      <td>1.0</td>\n",
       "    </tr>\n",
       "    <tr>\n",
       "      <th>lead_time</th>\n",
       "      <td>119390.0</td>\n",
       "      <td>104.011416</td>\n",
       "      <td>106.863097</td>\n",
       "      <td>0.00</td>\n",
       "      <td>18.00</td>\n",
       "      <td>69.000</td>\n",
       "      <td>160.0</td>\n",
       "      <td>737.0</td>\n",
       "    </tr>\n",
       "    <tr>\n",
       "      <th>arrival_date_year</th>\n",
       "      <td>119390.0</td>\n",
       "      <td>2016.156554</td>\n",
       "      <td>0.707476</td>\n",
       "      <td>2015.00</td>\n",
       "      <td>2016.00</td>\n",
       "      <td>2016.000</td>\n",
       "      <td>2017.0</td>\n",
       "      <td>2017.0</td>\n",
       "    </tr>\n",
       "    <tr>\n",
       "      <th>arrival_date_week_number</th>\n",
       "      <td>119390.0</td>\n",
       "      <td>27.165173</td>\n",
       "      <td>13.605138</td>\n",
       "      <td>1.00</td>\n",
       "      <td>16.00</td>\n",
       "      <td>28.000</td>\n",
       "      <td>38.0</td>\n",
       "      <td>53.0</td>\n",
       "    </tr>\n",
       "    <tr>\n",
       "      <th>arrival_date_day_of_month</th>\n",
       "      <td>119390.0</td>\n",
       "      <td>15.798241</td>\n",
       "      <td>8.780829</td>\n",
       "      <td>1.00</td>\n",
       "      <td>8.00</td>\n",
       "      <td>16.000</td>\n",
       "      <td>23.0</td>\n",
       "      <td>31.0</td>\n",
       "    </tr>\n",
       "    <tr>\n",
       "      <th>stays_in_weekend_nights</th>\n",
       "      <td>119390.0</td>\n",
       "      <td>0.927599</td>\n",
       "      <td>0.998613</td>\n",
       "      <td>0.00</td>\n",
       "      <td>0.00</td>\n",
       "      <td>1.000</td>\n",
       "      <td>2.0</td>\n",
       "      <td>19.0</td>\n",
       "    </tr>\n",
       "    <tr>\n",
       "      <th>stays_in_week_nights</th>\n",
       "      <td>119390.0</td>\n",
       "      <td>2.500302</td>\n",
       "      <td>1.908286</td>\n",
       "      <td>0.00</td>\n",
       "      <td>1.00</td>\n",
       "      <td>2.000</td>\n",
       "      <td>3.0</td>\n",
       "      <td>50.0</td>\n",
       "    </tr>\n",
       "    <tr>\n",
       "      <th>adults</th>\n",
       "      <td>119390.0</td>\n",
       "      <td>1.856403</td>\n",
       "      <td>0.579261</td>\n",
       "      <td>0.00</td>\n",
       "      <td>2.00</td>\n",
       "      <td>2.000</td>\n",
       "      <td>2.0</td>\n",
       "      <td>55.0</td>\n",
       "    </tr>\n",
       "    <tr>\n",
       "      <th>children</th>\n",
       "      <td>119386.0</td>\n",
       "      <td>0.103890</td>\n",
       "      <td>0.398561</td>\n",
       "      <td>0.00</td>\n",
       "      <td>0.00</td>\n",
       "      <td>0.000</td>\n",
       "      <td>0.0</td>\n",
       "      <td>10.0</td>\n",
       "    </tr>\n",
       "    <tr>\n",
       "      <th>babies</th>\n",
       "      <td>119390.0</td>\n",
       "      <td>0.007949</td>\n",
       "      <td>0.097436</td>\n",
       "      <td>0.00</td>\n",
       "      <td>0.00</td>\n",
       "      <td>0.000</td>\n",
       "      <td>0.0</td>\n",
       "      <td>10.0</td>\n",
       "    </tr>\n",
       "    <tr>\n",
       "      <th>is_repeated_guest</th>\n",
       "      <td>119390.0</td>\n",
       "      <td>0.031912</td>\n",
       "      <td>0.175767</td>\n",
       "      <td>0.00</td>\n",
       "      <td>0.00</td>\n",
       "      <td>0.000</td>\n",
       "      <td>0.0</td>\n",
       "      <td>1.0</td>\n",
       "    </tr>\n",
       "    <tr>\n",
       "      <th>previous_cancellations</th>\n",
       "      <td>119390.0</td>\n",
       "      <td>0.087118</td>\n",
       "      <td>0.844336</td>\n",
       "      <td>0.00</td>\n",
       "      <td>0.00</td>\n",
       "      <td>0.000</td>\n",
       "      <td>0.0</td>\n",
       "      <td>26.0</td>\n",
       "    </tr>\n",
       "    <tr>\n",
       "      <th>previous_bookings_not_canceled</th>\n",
       "      <td>119390.0</td>\n",
       "      <td>0.137097</td>\n",
       "      <td>1.497437</td>\n",
       "      <td>0.00</td>\n",
       "      <td>0.00</td>\n",
       "      <td>0.000</td>\n",
       "      <td>0.0</td>\n",
       "      <td>72.0</td>\n",
       "    </tr>\n",
       "    <tr>\n",
       "      <th>booking_changes</th>\n",
       "      <td>119390.0</td>\n",
       "      <td>0.221124</td>\n",
       "      <td>0.652306</td>\n",
       "      <td>0.00</td>\n",
       "      <td>0.00</td>\n",
       "      <td>0.000</td>\n",
       "      <td>0.0</td>\n",
       "      <td>21.0</td>\n",
       "    </tr>\n",
       "    <tr>\n",
       "      <th>agent</th>\n",
       "      <td>103050.0</td>\n",
       "      <td>86.693382</td>\n",
       "      <td>110.774548</td>\n",
       "      <td>1.00</td>\n",
       "      <td>9.00</td>\n",
       "      <td>14.000</td>\n",
       "      <td>229.0</td>\n",
       "      <td>535.0</td>\n",
       "    </tr>\n",
       "    <tr>\n",
       "      <th>company</th>\n",
       "      <td>6797.0</td>\n",
       "      <td>189.266735</td>\n",
       "      <td>131.655015</td>\n",
       "      <td>6.00</td>\n",
       "      <td>62.00</td>\n",
       "      <td>179.000</td>\n",
       "      <td>270.0</td>\n",
       "      <td>543.0</td>\n",
       "    </tr>\n",
       "    <tr>\n",
       "      <th>days_in_waiting_list</th>\n",
       "      <td>119390.0</td>\n",
       "      <td>2.321149</td>\n",
       "      <td>17.594721</td>\n",
       "      <td>0.00</td>\n",
       "      <td>0.00</td>\n",
       "      <td>0.000</td>\n",
       "      <td>0.0</td>\n",
       "      <td>391.0</td>\n",
       "    </tr>\n",
       "    <tr>\n",
       "      <th>adr</th>\n",
       "      <td>119390.0</td>\n",
       "      <td>101.831122</td>\n",
       "      <td>50.535790</td>\n",
       "      <td>-6.38</td>\n",
       "      <td>69.29</td>\n",
       "      <td>94.575</td>\n",
       "      <td>126.0</td>\n",
       "      <td>5400.0</td>\n",
       "    </tr>\n",
       "    <tr>\n",
       "      <th>required_car_parking_spaces</th>\n",
       "      <td>119390.0</td>\n",
       "      <td>0.062518</td>\n",
       "      <td>0.245291</td>\n",
       "      <td>0.00</td>\n",
       "      <td>0.00</td>\n",
       "      <td>0.000</td>\n",
       "      <td>0.0</td>\n",
       "      <td>8.0</td>\n",
       "    </tr>\n",
       "    <tr>\n",
       "      <th>total_of_special_requests</th>\n",
       "      <td>119390.0</td>\n",
       "      <td>0.571363</td>\n",
       "      <td>0.792798</td>\n",
       "      <td>0.00</td>\n",
       "      <td>0.00</td>\n",
       "      <td>0.000</td>\n",
       "      <td>1.0</td>\n",
       "      <td>5.0</td>\n",
       "    </tr>\n",
       "  </tbody>\n",
       "</table>\n",
       "</div>"
      ],
      "text/plain": [
       "                                   count         mean         std      min  \\\n",
       "is_canceled                     119390.0     0.370416    0.482918     0.00   \n",
       "lead_time                       119390.0   104.011416  106.863097     0.00   \n",
       "arrival_date_year               119390.0  2016.156554    0.707476  2015.00   \n",
       "arrival_date_week_number        119390.0    27.165173   13.605138     1.00   \n",
       "arrival_date_day_of_month       119390.0    15.798241    8.780829     1.00   \n",
       "stays_in_weekend_nights         119390.0     0.927599    0.998613     0.00   \n",
       "stays_in_week_nights            119390.0     2.500302    1.908286     0.00   \n",
       "adults                          119390.0     1.856403    0.579261     0.00   \n",
       "children                        119386.0     0.103890    0.398561     0.00   \n",
       "babies                          119390.0     0.007949    0.097436     0.00   \n",
       "is_repeated_guest               119390.0     0.031912    0.175767     0.00   \n",
       "previous_cancellations          119390.0     0.087118    0.844336     0.00   \n",
       "previous_bookings_not_canceled  119390.0     0.137097    1.497437     0.00   \n",
       "booking_changes                 119390.0     0.221124    0.652306     0.00   \n",
       "agent                           103050.0    86.693382  110.774548     1.00   \n",
       "company                           6797.0   189.266735  131.655015     6.00   \n",
       "days_in_waiting_list            119390.0     2.321149   17.594721     0.00   \n",
       "adr                             119390.0   101.831122   50.535790    -6.38   \n",
       "required_car_parking_spaces     119390.0     0.062518    0.245291     0.00   \n",
       "total_of_special_requests       119390.0     0.571363    0.792798     0.00   \n",
       "\n",
       "                                    25%       50%     75%     max  \n",
       "is_canceled                        0.00     0.000     1.0     1.0  \n",
       "lead_time                         18.00    69.000   160.0   737.0  \n",
       "arrival_date_year               2016.00  2016.000  2017.0  2017.0  \n",
       "arrival_date_week_number          16.00    28.000    38.0    53.0  \n",
       "arrival_date_day_of_month          8.00    16.000    23.0    31.0  \n",
       "stays_in_weekend_nights            0.00     1.000     2.0    19.0  \n",
       "stays_in_week_nights               1.00     2.000     3.0    50.0  \n",
       "adults                             2.00     2.000     2.0    55.0  \n",
       "children                           0.00     0.000     0.0    10.0  \n",
       "babies                             0.00     0.000     0.0    10.0  \n",
       "is_repeated_guest                  0.00     0.000     0.0     1.0  \n",
       "previous_cancellations             0.00     0.000     0.0    26.0  \n",
       "previous_bookings_not_canceled     0.00     0.000     0.0    72.0  \n",
       "booking_changes                    0.00     0.000     0.0    21.0  \n",
       "agent                              9.00    14.000   229.0   535.0  \n",
       "company                           62.00   179.000   270.0   543.0  \n",
       "days_in_waiting_list               0.00     0.000     0.0   391.0  \n",
       "adr                               69.29    94.575   126.0  5400.0  \n",
       "required_car_parking_spaces        0.00     0.000     0.0     8.0  \n",
       "total_of_special_requests          0.00     0.000     1.0     5.0  "
      ]
     },
     "execution_count": 7,
     "metadata": {},
     "output_type": "execute_result"
    }
   ],
   "source": [
    "hotel_df.describe().T"
   ]
  },
  {
   "cell_type": "markdown",
   "metadata": {},
   "source": [
    "##  Finding missing values and cleaning data"
   ]
  },
  {
   "cell_type": "code",
   "execution_count": 8,
   "metadata": {},
   "outputs": [],
   "source": [
    "a = hotel_df.isnull().sum()\n",
    "t = hotel_df.shape[0]"
   ]
  },
  {
   "cell_type": "code",
   "execution_count": 9,
   "metadata": {},
   "outputs": [
    {
     "data": {
      "text/html": [
       "<div>\n",
       "<style scoped>\n",
       "    .dataframe tbody tr th:only-of-type {\n",
       "        vertical-align: middle;\n",
       "    }\n",
       "\n",
       "    .dataframe tbody tr th {\n",
       "        vertical-align: top;\n",
       "    }\n",
       "\n",
       "    .dataframe thead th {\n",
       "        text-align: right;\n",
       "    }\n",
       "</style>\n",
       "<table border=\"1\" class=\"dataframe\">\n",
       "  <thead>\n",
       "    <tr style=\"text-align: right;\">\n",
       "      <th></th>\n",
       "      <th>No. of Missing Data</th>\n",
       "      <th>% Missing Data</th>\n",
       "    </tr>\n",
       "  </thead>\n",
       "  <tbody>\n",
       "    <tr>\n",
       "      <th>hotel</th>\n",
       "      <td>0.0</td>\n",
       "      <td>0.000000</td>\n",
       "    </tr>\n",
       "    <tr>\n",
       "      <th>is_canceled</th>\n",
       "      <td>0.0</td>\n",
       "      <td>0.000000</td>\n",
       "    </tr>\n",
       "    <tr>\n",
       "      <th>lead_time</th>\n",
       "      <td>0.0</td>\n",
       "      <td>0.000000</td>\n",
       "    </tr>\n",
       "    <tr>\n",
       "      <th>arrival_date_year</th>\n",
       "      <td>0.0</td>\n",
       "      <td>0.000000</td>\n",
       "    </tr>\n",
       "    <tr>\n",
       "      <th>arrival_date_month</th>\n",
       "      <td>0.0</td>\n",
       "      <td>0.000000</td>\n",
       "    </tr>\n",
       "    <tr>\n",
       "      <th>arrival_date_week_number</th>\n",
       "      <td>0.0</td>\n",
       "      <td>0.000000</td>\n",
       "    </tr>\n",
       "    <tr>\n",
       "      <th>arrival_date_day_of_month</th>\n",
       "      <td>0.0</td>\n",
       "      <td>0.000000</td>\n",
       "    </tr>\n",
       "    <tr>\n",
       "      <th>stays_in_weekend_nights</th>\n",
       "      <td>0.0</td>\n",
       "      <td>0.000000</td>\n",
       "    </tr>\n",
       "    <tr>\n",
       "      <th>stays_in_week_nights</th>\n",
       "      <td>0.0</td>\n",
       "      <td>0.000000</td>\n",
       "    </tr>\n",
       "    <tr>\n",
       "      <th>adults</th>\n",
       "      <td>0.0</td>\n",
       "      <td>0.000000</td>\n",
       "    </tr>\n",
       "    <tr>\n",
       "      <th>children</th>\n",
       "      <td>4.0</td>\n",
       "      <td>0.000034</td>\n",
       "    </tr>\n",
       "    <tr>\n",
       "      <th>babies</th>\n",
       "      <td>0.0</td>\n",
       "      <td>0.000000</td>\n",
       "    </tr>\n",
       "    <tr>\n",
       "      <th>meal</th>\n",
       "      <td>0.0</td>\n",
       "      <td>0.000000</td>\n",
       "    </tr>\n",
       "    <tr>\n",
       "      <th>country</th>\n",
       "      <td>488.0</td>\n",
       "      <td>0.004087</td>\n",
       "    </tr>\n",
       "    <tr>\n",
       "      <th>market_segment</th>\n",
       "      <td>0.0</td>\n",
       "      <td>0.000000</td>\n",
       "    </tr>\n",
       "    <tr>\n",
       "      <th>distribution_channel</th>\n",
       "      <td>0.0</td>\n",
       "      <td>0.000000</td>\n",
       "    </tr>\n",
       "    <tr>\n",
       "      <th>is_repeated_guest</th>\n",
       "      <td>0.0</td>\n",
       "      <td>0.000000</td>\n",
       "    </tr>\n",
       "    <tr>\n",
       "      <th>previous_cancellations</th>\n",
       "      <td>0.0</td>\n",
       "      <td>0.000000</td>\n",
       "    </tr>\n",
       "    <tr>\n",
       "      <th>previous_bookings_not_canceled</th>\n",
       "      <td>0.0</td>\n",
       "      <td>0.000000</td>\n",
       "    </tr>\n",
       "    <tr>\n",
       "      <th>reserved_room_type</th>\n",
       "      <td>0.0</td>\n",
       "      <td>0.000000</td>\n",
       "    </tr>\n",
       "    <tr>\n",
       "      <th>assigned_room_type</th>\n",
       "      <td>0.0</td>\n",
       "      <td>0.000000</td>\n",
       "    </tr>\n",
       "    <tr>\n",
       "      <th>booking_changes</th>\n",
       "      <td>0.0</td>\n",
       "      <td>0.000000</td>\n",
       "    </tr>\n",
       "    <tr>\n",
       "      <th>deposit_type</th>\n",
       "      <td>0.0</td>\n",
       "      <td>0.000000</td>\n",
       "    </tr>\n",
       "    <tr>\n",
       "      <th>agent</th>\n",
       "      <td>16340.0</td>\n",
       "      <td>0.136862</td>\n",
       "    </tr>\n",
       "    <tr>\n",
       "      <th>company</th>\n",
       "      <td>112593.0</td>\n",
       "      <td>0.943069</td>\n",
       "    </tr>\n",
       "    <tr>\n",
       "      <th>days_in_waiting_list</th>\n",
       "      <td>0.0</td>\n",
       "      <td>0.000000</td>\n",
       "    </tr>\n",
       "    <tr>\n",
       "      <th>customer_type</th>\n",
       "      <td>0.0</td>\n",
       "      <td>0.000000</td>\n",
       "    </tr>\n",
       "    <tr>\n",
       "      <th>adr</th>\n",
       "      <td>0.0</td>\n",
       "      <td>0.000000</td>\n",
       "    </tr>\n",
       "    <tr>\n",
       "      <th>required_car_parking_spaces</th>\n",
       "      <td>0.0</td>\n",
       "      <td>0.000000</td>\n",
       "    </tr>\n",
       "    <tr>\n",
       "      <th>total_of_special_requests</th>\n",
       "      <td>0.0</td>\n",
       "      <td>0.000000</td>\n",
       "    </tr>\n",
       "    <tr>\n",
       "      <th>reservation_status</th>\n",
       "      <td>0.0</td>\n",
       "      <td>0.000000</td>\n",
       "    </tr>\n",
       "    <tr>\n",
       "      <th>reservation_status_date</th>\n",
       "      <td>0.0</td>\n",
       "      <td>0.000000</td>\n",
       "    </tr>\n",
       "  </tbody>\n",
       "</table>\n",
       "</div>"
      ],
      "text/plain": [
       "                                No. of Missing Data  % Missing Data\n",
       "hotel                                           0.0        0.000000\n",
       "is_canceled                                     0.0        0.000000\n",
       "lead_time                                       0.0        0.000000\n",
       "arrival_date_year                               0.0        0.000000\n",
       "arrival_date_month                              0.0        0.000000\n",
       "arrival_date_week_number                        0.0        0.000000\n",
       "arrival_date_day_of_month                       0.0        0.000000\n",
       "stays_in_weekend_nights                         0.0        0.000000\n",
       "stays_in_week_nights                            0.0        0.000000\n",
       "adults                                          0.0        0.000000\n",
       "children                                        4.0        0.000034\n",
       "babies                                          0.0        0.000000\n",
       "meal                                            0.0        0.000000\n",
       "country                                       488.0        0.004087\n",
       "market_segment                                  0.0        0.000000\n",
       "distribution_channel                            0.0        0.000000\n",
       "is_repeated_guest                               0.0        0.000000\n",
       "previous_cancellations                          0.0        0.000000\n",
       "previous_bookings_not_canceled                  0.0        0.000000\n",
       "reserved_room_type                              0.0        0.000000\n",
       "assigned_room_type                              0.0        0.000000\n",
       "booking_changes                                 0.0        0.000000\n",
       "deposit_type                                    0.0        0.000000\n",
       "agent                                       16340.0        0.136862\n",
       "company                                    112593.0        0.943069\n",
       "days_in_waiting_list                            0.0        0.000000\n",
       "customer_type                                   0.0        0.000000\n",
       "adr                                             0.0        0.000000\n",
       "required_car_parking_spaces                     0.0        0.000000\n",
       "total_of_special_requests                       0.0        0.000000\n",
       "reservation_status                              0.0        0.000000\n",
       "reservation_status_date                         0.0        0.000000"
      ]
     },
     "execution_count": 9,
     "metadata": {},
     "output_type": "execute_result"
    }
   ],
   "source": [
    "data_miss = pd.DataFrame([a,a/t]).T\n",
    "data_miss.columns = ['No. of Missing Data', '% Missing Data']\n",
    "data_miss"
   ]
  },
  {
   "cell_type": "code",
   "execution_count": 10,
   "metadata": {
    "scrolled": true
   },
   "outputs": [],
   "source": [
    "#13% of the agent and 94% of the company information is information we can directly removes those twi variables from our data.\n",
    "hotel_df.drop(['agent','company'],axis=1,inplace=True)"
   ]
  },
  {
   "cell_type": "code",
   "execution_count": 11,
   "metadata": {},
   "outputs": [
    {
     "data": {
      "text/plain": [
       "0.0     110796\n",
       "1.0       4861\n",
       "2.0       3652\n",
       "3.0         76\n",
       "10.0         1\n",
       "Name: children, dtype: int64"
      ]
     },
     "execution_count": 11,
     "metadata": {},
     "output_type": "execute_result"
    }
   ],
   "source": [
    "hotel_df['children'].value_counts() # Most bookings had no children so we will fill missing values as 0"
   ]
  },
  {
   "cell_type": "code",
   "execution_count": 12,
   "metadata": {},
   "outputs": [],
   "source": [
    "hotel_df['children'].fillna(0,inplace = True)"
   ]
  },
  {
   "cell_type": "code",
   "execution_count": 13,
   "metadata": {},
   "outputs": [
    {
     "data": {
      "text/plain": [
       "array(['PRT', 'GBR', 'USA', 'ESP', 'IRL', 'FRA', nan, 'ROU', 'NOR', 'OMN',\n",
       "       'ARG', 'POL', 'DEU', 'BEL', 'CHE', 'CN', 'GRC', 'ITA', 'NLD',\n",
       "       'DNK', 'RUS', 'SWE', 'AUS', 'EST', 'CZE', 'BRA', 'FIN', 'MOZ',\n",
       "       'BWA', 'LUX', 'SVN', 'ALB', 'IND', 'CHN', 'MEX', 'MAR', 'UKR',\n",
       "       'SMR', 'LVA', 'PRI', 'SRB', 'CHL', 'AUT', 'BLR', 'LTU', 'TUR',\n",
       "       'ZAF', 'AGO', 'ISR', 'CYM', 'ZMB', 'CPV', 'ZWE', 'DZA', 'KOR',\n",
       "       'CRI', 'HUN', 'ARE', 'TUN', 'JAM', 'HRV', 'HKG', 'IRN', 'GEO',\n",
       "       'AND', 'GIB', 'URY', 'JEY', 'CAF', 'CYP', 'COL', 'GGY', 'KWT',\n",
       "       'NGA', 'MDV', 'VEN', 'SVK', 'FJI', 'KAZ', 'PAK', 'IDN', 'LBN',\n",
       "       'PHL', 'SEN', 'SYC', 'AZE', 'BHR', 'NZL', 'THA', 'DOM', 'MKD',\n",
       "       'MYS', 'ARM', 'JPN', 'LKA', 'CUB', 'CMR', 'BIH', 'MUS', 'COM',\n",
       "       'SUR', 'UGA', 'BGR', 'CIV', 'JOR', 'SYR', 'SGP', 'BDI', 'SAU',\n",
       "       'VNM', 'PLW', 'QAT', 'EGY', 'PER', 'MLT', 'MWI', 'ECU', 'MDG',\n",
       "       'ISL', 'UZB', 'NPL', 'BHS', 'MAC', 'TGO', 'TWN', 'DJI', 'STP',\n",
       "       'KNA', 'ETH', 'IRQ', 'HND', 'RWA', 'KHM', 'MCO', 'BGD', 'IMN',\n",
       "       'TJK', 'NIC', 'BEN', 'VGB', 'TZA', 'GAB', 'GHA', 'TMP', 'GLP',\n",
       "       'KEN', 'LIE', 'GNB', 'MNE', 'UMI', 'MYT', 'FRO', 'MMR', 'PAN',\n",
       "       'BFA', 'LBY', 'MLI', 'NAM', 'BOL', 'PRY', 'BRB', 'ABW', 'AIA',\n",
       "       'SLV', 'DMA', 'PYF', 'GUY', 'LCA', 'ATA', 'GTM', 'ASM', 'MRT',\n",
       "       'NCL', 'KIR', 'SDN', 'ATF', 'SLE', 'LAO'], dtype=object)"
      ]
     },
     "execution_count": 13,
     "metadata": {},
     "output_type": "execute_result"
    }
   ],
   "source": [
    "hotel_df.country.unique()"
   ]
  },
  {
   "cell_type": "code",
   "execution_count": 14,
   "metadata": {},
   "outputs": [],
   "source": [
    "b = hotel_df['country'].value_counts()"
   ]
  },
  {
   "cell_type": "code",
   "execution_count": 15,
   "metadata": {},
   "outputs": [],
   "source": [
    "htl_country_data = pd.DataFrame([b,b*100/t]).T"
   ]
  },
  {
   "cell_type": "code",
   "execution_count": 16,
   "metadata": {},
   "outputs": [
    {
     "data": {
      "text/html": [
       "<div>\n",
       "<style scoped>\n",
       "    .dataframe tbody tr th:only-of-type {\n",
       "        vertical-align: middle;\n",
       "    }\n",
       "\n",
       "    .dataframe tbody tr th {\n",
       "        vertical-align: top;\n",
       "    }\n",
       "\n",
       "    .dataframe thead th {\n",
       "        text-align: right;\n",
       "    }\n",
       "</style>\n",
       "<table border=\"1\" class=\"dataframe\">\n",
       "  <thead>\n",
       "    <tr style=\"text-align: right;\">\n",
       "      <th></th>\n",
       "      <th>Count</th>\n",
       "      <th>% Distribution</th>\n",
       "    </tr>\n",
       "  </thead>\n",
       "  <tbody>\n",
       "    <tr>\n",
       "      <th>PRT</th>\n",
       "      <td>48590.0</td>\n",
       "      <td>40.698551</td>\n",
       "    </tr>\n",
       "    <tr>\n",
       "      <th>GBR</th>\n",
       "      <td>12129.0</td>\n",
       "      <td>10.159142</td>\n",
       "    </tr>\n",
       "    <tr>\n",
       "      <th>FRA</th>\n",
       "      <td>10415.0</td>\n",
       "      <td>8.723511</td>\n",
       "    </tr>\n",
       "    <tr>\n",
       "      <th>ESP</th>\n",
       "      <td>8568.0</td>\n",
       "      <td>7.176480</td>\n",
       "    </tr>\n",
       "    <tr>\n",
       "      <th>DEU</th>\n",
       "      <td>7287.0</td>\n",
       "      <td>6.103526</td>\n",
       "    </tr>\n",
       "    <tr>\n",
       "      <th>...</th>\n",
       "      <td>...</td>\n",
       "      <td>...</td>\n",
       "    </tr>\n",
       "    <tr>\n",
       "      <th>FJI</th>\n",
       "      <td>1.0</td>\n",
       "      <td>0.000838</td>\n",
       "    </tr>\n",
       "    <tr>\n",
       "      <th>UMI</th>\n",
       "      <td>1.0</td>\n",
       "      <td>0.000838</td>\n",
       "    </tr>\n",
       "    <tr>\n",
       "      <th>AIA</th>\n",
       "      <td>1.0</td>\n",
       "      <td>0.000838</td>\n",
       "    </tr>\n",
       "    <tr>\n",
       "      <th>PYF</th>\n",
       "      <td>1.0</td>\n",
       "      <td>0.000838</td>\n",
       "    </tr>\n",
       "    <tr>\n",
       "      <th>CYM</th>\n",
       "      <td>1.0</td>\n",
       "      <td>0.000838</td>\n",
       "    </tr>\n",
       "  </tbody>\n",
       "</table>\n",
       "<p>177 rows × 2 columns</p>\n",
       "</div>"
      ],
      "text/plain": [
       "       Count  % Distribution\n",
       "PRT  48590.0       40.698551\n",
       "GBR  12129.0       10.159142\n",
       "FRA  10415.0        8.723511\n",
       "ESP   8568.0        7.176480\n",
       "DEU   7287.0        6.103526\n",
       "..       ...             ...\n",
       "FJI      1.0        0.000838\n",
       "UMI      1.0        0.000838\n",
       "AIA      1.0        0.000838\n",
       "PYF      1.0        0.000838\n",
       "CYM      1.0        0.000838\n",
       "\n",
       "[177 rows x 2 columns]"
      ]
     },
     "execution_count": 16,
     "metadata": {},
     "output_type": "execute_result"
    }
   ],
   "source": [
    "htl_country_data.columns = ['Count', '% Distribution']\n",
    "htl_country_data"
   ]
  },
  {
   "cell_type": "code",
   "execution_count": 17,
   "metadata": {},
   "outputs": [],
   "source": [
    "#40% of the bookings are from Portugal. and only 0.4 % is missing data. we will fill missing countries with portugal since that wont\n",
    "# effect the distribution.\n",
    "hotel_df['country'].fillna('PRT',inplace=True)"
   ]
  },
  {
   "cell_type": "code",
   "execution_count": 18,
   "metadata": {},
   "outputs": [
    {
     "data": {
      "text/html": [
       "<div>\n",
       "<style scoped>\n",
       "    .dataframe tbody tr th:only-of-type {\n",
       "        vertical-align: middle;\n",
       "    }\n",
       "\n",
       "    .dataframe tbody tr th {\n",
       "        vertical-align: top;\n",
       "    }\n",
       "\n",
       "    .dataframe thead th {\n",
       "        text-align: right;\n",
       "    }\n",
       "</style>\n",
       "<table border=\"1\" class=\"dataframe\">\n",
       "  <thead>\n",
       "    <tr style=\"text-align: right;\">\n",
       "      <th></th>\n",
       "      <th>No. of Missing Data</th>\n",
       "      <th>% Missing Data</th>\n",
       "    </tr>\n",
       "  </thead>\n",
       "  <tbody>\n",
       "    <tr>\n",
       "      <th>hotel</th>\n",
       "      <td>0.0</td>\n",
       "      <td>0.0</td>\n",
       "    </tr>\n",
       "    <tr>\n",
       "      <th>is_canceled</th>\n",
       "      <td>0.0</td>\n",
       "      <td>0.0</td>\n",
       "    </tr>\n",
       "    <tr>\n",
       "      <th>lead_time</th>\n",
       "      <td>0.0</td>\n",
       "      <td>0.0</td>\n",
       "    </tr>\n",
       "    <tr>\n",
       "      <th>arrival_date_year</th>\n",
       "      <td>0.0</td>\n",
       "      <td>0.0</td>\n",
       "    </tr>\n",
       "    <tr>\n",
       "      <th>arrival_date_month</th>\n",
       "      <td>0.0</td>\n",
       "      <td>0.0</td>\n",
       "    </tr>\n",
       "    <tr>\n",
       "      <th>arrival_date_week_number</th>\n",
       "      <td>0.0</td>\n",
       "      <td>0.0</td>\n",
       "    </tr>\n",
       "    <tr>\n",
       "      <th>arrival_date_day_of_month</th>\n",
       "      <td>0.0</td>\n",
       "      <td>0.0</td>\n",
       "    </tr>\n",
       "    <tr>\n",
       "      <th>stays_in_weekend_nights</th>\n",
       "      <td>0.0</td>\n",
       "      <td>0.0</td>\n",
       "    </tr>\n",
       "    <tr>\n",
       "      <th>stays_in_week_nights</th>\n",
       "      <td>0.0</td>\n",
       "      <td>0.0</td>\n",
       "    </tr>\n",
       "    <tr>\n",
       "      <th>adults</th>\n",
       "      <td>0.0</td>\n",
       "      <td>0.0</td>\n",
       "    </tr>\n",
       "    <tr>\n",
       "      <th>children</th>\n",
       "      <td>0.0</td>\n",
       "      <td>0.0</td>\n",
       "    </tr>\n",
       "    <tr>\n",
       "      <th>babies</th>\n",
       "      <td>0.0</td>\n",
       "      <td>0.0</td>\n",
       "    </tr>\n",
       "    <tr>\n",
       "      <th>meal</th>\n",
       "      <td>0.0</td>\n",
       "      <td>0.0</td>\n",
       "    </tr>\n",
       "    <tr>\n",
       "      <th>country</th>\n",
       "      <td>0.0</td>\n",
       "      <td>0.0</td>\n",
       "    </tr>\n",
       "    <tr>\n",
       "      <th>market_segment</th>\n",
       "      <td>0.0</td>\n",
       "      <td>0.0</td>\n",
       "    </tr>\n",
       "    <tr>\n",
       "      <th>distribution_channel</th>\n",
       "      <td>0.0</td>\n",
       "      <td>0.0</td>\n",
       "    </tr>\n",
       "    <tr>\n",
       "      <th>is_repeated_guest</th>\n",
       "      <td>0.0</td>\n",
       "      <td>0.0</td>\n",
       "    </tr>\n",
       "    <tr>\n",
       "      <th>previous_cancellations</th>\n",
       "      <td>0.0</td>\n",
       "      <td>0.0</td>\n",
       "    </tr>\n",
       "    <tr>\n",
       "      <th>previous_bookings_not_canceled</th>\n",
       "      <td>0.0</td>\n",
       "      <td>0.0</td>\n",
       "    </tr>\n",
       "    <tr>\n",
       "      <th>reserved_room_type</th>\n",
       "      <td>0.0</td>\n",
       "      <td>0.0</td>\n",
       "    </tr>\n",
       "    <tr>\n",
       "      <th>assigned_room_type</th>\n",
       "      <td>0.0</td>\n",
       "      <td>0.0</td>\n",
       "    </tr>\n",
       "    <tr>\n",
       "      <th>booking_changes</th>\n",
       "      <td>0.0</td>\n",
       "      <td>0.0</td>\n",
       "    </tr>\n",
       "    <tr>\n",
       "      <th>deposit_type</th>\n",
       "      <td>0.0</td>\n",
       "      <td>0.0</td>\n",
       "    </tr>\n",
       "    <tr>\n",
       "      <th>days_in_waiting_list</th>\n",
       "      <td>0.0</td>\n",
       "      <td>0.0</td>\n",
       "    </tr>\n",
       "    <tr>\n",
       "      <th>customer_type</th>\n",
       "      <td>0.0</td>\n",
       "      <td>0.0</td>\n",
       "    </tr>\n",
       "    <tr>\n",
       "      <th>adr</th>\n",
       "      <td>0.0</td>\n",
       "      <td>0.0</td>\n",
       "    </tr>\n",
       "    <tr>\n",
       "      <th>required_car_parking_spaces</th>\n",
       "      <td>0.0</td>\n",
       "      <td>0.0</td>\n",
       "    </tr>\n",
       "    <tr>\n",
       "      <th>total_of_special_requests</th>\n",
       "      <td>0.0</td>\n",
       "      <td>0.0</td>\n",
       "    </tr>\n",
       "    <tr>\n",
       "      <th>reservation_status</th>\n",
       "      <td>0.0</td>\n",
       "      <td>0.0</td>\n",
       "    </tr>\n",
       "    <tr>\n",
       "      <th>reservation_status_date</th>\n",
       "      <td>0.0</td>\n",
       "      <td>0.0</td>\n",
       "    </tr>\n",
       "  </tbody>\n",
       "</table>\n",
       "</div>"
      ],
      "text/plain": [
       "                                No. of Missing Data  % Missing Data\n",
       "hotel                                           0.0             0.0\n",
       "is_canceled                                     0.0             0.0\n",
       "lead_time                                       0.0             0.0\n",
       "arrival_date_year                               0.0             0.0\n",
       "arrival_date_month                              0.0             0.0\n",
       "arrival_date_week_number                        0.0             0.0\n",
       "arrival_date_day_of_month                       0.0             0.0\n",
       "stays_in_weekend_nights                         0.0             0.0\n",
       "stays_in_week_nights                            0.0             0.0\n",
       "adults                                          0.0             0.0\n",
       "children                                        0.0             0.0\n",
       "babies                                          0.0             0.0\n",
       "meal                                            0.0             0.0\n",
       "country                                         0.0             0.0\n",
       "market_segment                                  0.0             0.0\n",
       "distribution_channel                            0.0             0.0\n",
       "is_repeated_guest                               0.0             0.0\n",
       "previous_cancellations                          0.0             0.0\n",
       "previous_bookings_not_canceled                  0.0             0.0\n",
       "reserved_room_type                              0.0             0.0\n",
       "assigned_room_type                              0.0             0.0\n",
       "booking_changes                                 0.0             0.0\n",
       "deposit_type                                    0.0             0.0\n",
       "days_in_waiting_list                            0.0             0.0\n",
       "customer_type                                   0.0             0.0\n",
       "adr                                             0.0             0.0\n",
       "required_car_parking_spaces                     0.0             0.0\n",
       "total_of_special_requests                       0.0             0.0\n",
       "reservation_status                              0.0             0.0\n",
       "reservation_status_date                         0.0             0.0"
      ]
     },
     "execution_count": 18,
     "metadata": {},
     "output_type": "execute_result"
    }
   ],
   "source": [
    "#check if missing data is handled\n",
    "htl_missing_data = pd.DataFrame([hotel_df.isnull().sum(),hotel_df.isnull().sum()*100.0/hotel_df.shape[0]]).T\n",
    "htl_missing_data.columns = ['No. of Missing Data', '% Missing Data']\n",
    "htl_missing_data\n"
   ]
  },
  {
   "cell_type": "markdown",
   "metadata": {},
   "source": [
    "## Data Visualisation"
   ]
  },
  {
   "cell_type": "markdown",
   "metadata": {},
   "source": [
    "**lets check the distribution of all the variables with hotel booking cancellation**"
   ]
  },
  {
   "cell_type": "code",
   "execution_count": 19,
   "metadata": {},
   "outputs": [
    {
     "data": {
      "image/png": "[encoded data removed]",
      "text/plain": [
       "<Figure size 576x288 with 1 Axes>"
      ]
     },
     "metadata": {},
     "output_type": "display_data"
    }
   ],
   "source": [
    "#Highest booking monthwise\n",
    "month_sorted = ['January','February','March','April','May','June','July','August','September','October','November','December']\n",
    "plt.figure(figsize=(8,4))\n",
    "sns.countplot(hotel_df['arrival_date_month'],order = month_sorted)\n",
    "plt.xticks(rotation = 90)\n",
    "plt.show()\n",
    "# as we see july and august has highest demand while winters has lowest demand."
   ]
  },
  {
   "cell_type": "code",
   "execution_count": 20,
   "metadata": {},
   "outputs": [
    {
     "data": {
      "text/plain": [
       "Text(0.5, 1.0, 'Unbalanced Dataset')"
      ]
     },
     "execution_count": 20,
     "metadata": {},
     "output_type": "execute_result"
    },
    {
     "data": {
      "image/png": "[encoded data removed]",
      "text/plain": [
       "<Figure size 432x288 with 1 Axes>"
      ]
     },
     "metadata": {},
     "output_type": "display_data"
    }
   ],
   "source": [
    "sns.countplot(x=\"is_canceled\", data=hotel_df).set_title(\"Unbalanced Dataset\")"
   ]
  },
  {
   "cell_type": "code",
   "execution_count": 21,
   "metadata": {},
   "outputs": [
    {
     "data": {
      "text/plain": [
       "Text(0.5, 1.0, 'Balanced Dataset')"
      ]
     },
     "execution_count": 21,
     "metadata": {},
     "output_type": "execute_result"
    },
    {
     "data": {
      "image/png": "[encoded data removed]",
      "text/plain": [
       "<Figure size 432x288 with 1 Axes>"
      ]
     },
     "metadata": {},
     "output_type": "display_data"
    }
   ],
   "source": [
    "from sklearn.utils import resample\n",
    "not_default = hotel_df[hotel_df.is_canceled==0]\n",
    "default = hotel_df[hotel_df.is_canceled==1]\n",
    "\n",
    " \n",
    "\n",
    "# upsample minority\n",
    "resampled = resample(not_default,\n",
    "                          replace=True, # sample with replacement\n",
    "                          n_samples=len(default)+10000, # match number in majority class\n",
    "                          random_state=27) # reproducible results\n",
    "\n",
    " \n",
    "\n",
    "# combine majority and upsampled minority\n",
    "#upsampled = pd.concat([not_fraud, fraud_upsampled])\n",
    "hotel_df = pd.concat([resampled,default],ignore_index=True)\n",
    "sns.countplot(x=\"is_canceled\", data=hotel_df).set_title(\"Balanced Dataset\")"
   ]
  },
  {
   "cell_type": "code",
   "execution_count": 22,
   "metadata": {},
   "outputs": [
    {
     "data": {
      "image/png": "[encoded data removed]",
      "text/plain": [
       "<Figure size 432x288 with 1 Axes>"
      ]
     },
     "metadata": {},
     "output_type": "display_data"
    }
   ],
   "source": [
    "#Booking Cancelled on hotel basis\n",
    "sns.set(style=\"darkgrid\")\n",
    "ax = sns.countplot(x=\"hotel\", data=hotel_df,hue='is_canceled')"
   ]
  },
  {
   "cell_type": "code",
   "execution_count": 23,
   "metadata": {},
   "outputs": [
    {
     "data": {
      "image/png": "[encoded data removed]",
      "text/plain": [
       "<Figure size 432x288 with 1 Axes>"
      ]
     },
     "metadata": {},
     "output_type": "display_data"
    }
   ],
   "source": [
    "#Deposit Type and cancellation status\n",
    "ax = sns.countplot(x=\"deposit_type\", data=hotel_df,hue='is_canceled')"
   ]
  },
  {
   "cell_type": "code",
   "execution_count": 24,
   "metadata": {},
   "outputs": [],
   "source": [
    "#Date of cancellation vs Date of Arrival\n",
    "# here we are creating new column by combining arrival year, month and day.similarly, we will do for cancellation date\n",
    "hotel_df['arrival_date'] = hotel_df['arrival_date_year'].astype(str) + '-' + hotel_df['arrival_date_month'] + '-' + hotel_df['arrival_date_day_of_month'].astype(str)\n",
    "hotel_df['arrival_date'] = hotel_df['arrival_date'].apply(pd.to_datetime)\n",
    "hotel_df['reservation_status_date'] = hotel_df['reservation_status_date'].apply(pd.to_datetime)"
   ]
  },
  {
   "cell_type": "code",
   "execution_count": 25,
   "metadata": {},
   "outputs": [],
   "source": [
    "cancelled_data = hotel_df[hotel_df['reservation_status'] == 'Canceled']\n",
    "cancelled_data['canc_to_arrival_days'] = cancelled_data['arrival_date'] - cancelled_data['reservation_status_date']\n",
    "cancelled_data['canc_to_arrival_days'] = cancelled_data['canc_to_arrival_days'].dt.days"
   ]
  },
  {
   "cell_type": "code",
   "execution_count": 26,
   "metadata": {},
   "outputs": [
    {
     "data": {
      "image/png": "[encoded data removed]",
      "text/plain": [
       "<Figure size 1008x432 with 1 Axes>"
      ]
     },
     "metadata": {},
     "output_type": "display_data"
    }
   ],
   "source": [
    "plt.figure(figsize=(14,6))\n",
    "sns.distplot(cancelled_data['canc_to_arrival_days'])\n",
    "plt.show()"
   ]
  },
  {
   "cell_type": "code",
   "execution_count": 27,
   "metadata": {},
   "outputs": [
    {
     "name": "stdout",
     "output_type": "stream",
     "text": [
      "Percentage of cancellations that are within a week of arrival:  20.65 %\n"
     ]
    }
   ],
   "source": [
    "print('Percentage of cancellations that are within a week of arrival: ', \n",
    "      (cancelled_data[cancelled_data['canc_to_arrival_days']<=7]['canc_to_arrival_days'].count()*100/cancelled_data['canc_to_arrival_days'].count()).round(2), '%')"
   ]
  },
  {
   "cell_type": "code",
   "execution_count": 28,
   "metadata": {},
   "outputs": [],
   "source": [
    "#20% of the cancellation happen in a week so there will be huge benefit if we predict if a customer will cancel a booking or not\n",
    "# so that hotel can prepare for it."
   ]
  },
  {
   "cell_type": "code",
   "execution_count": 29,
   "metadata": {},
   "outputs": [
    {
     "data": {
      "image/png": "[encoded data removed]",
      "text/plain": [
       "<Figure size 576x288 with 1 Axes>"
      ]
     },
     "metadata": {},
     "output_type": "display_data"
    }
   ],
   "source": [
    "monthly_canc = pd.DataFrame(hotel_df[hotel_df['is_canceled'] == 1]['arrival_date_month'].value_counts() * 100 / hotel_df['arrival_date_month'].value_counts())\n",
    "monthly_canc.reset_index()\n",
    "plt.figure(figsize=(8,4))\n",
    "sns.barplot(x=monthly_canc.index,y='arrival_date_month',data=monthly_canc, order=month_sorted)\n",
    "plt.xticks(rotation = 90)\n",
    "plt.ylabel('% cancellation per month')\n",
    "plt.show()"
   ]
  },
  {
   "cell_type": "code",
   "execution_count": 30,
   "metadata": {},
   "outputs": [
    {
     "data": {
      "image/png": "[encoded data removed]",
      "text/plain": [
       "<Figure size 576x576 with 1 Axes>"
      ]
     },
     "metadata": {},
     "output_type": "display_data"
    }
   ],
   "source": [
    "# market segment and cancellation\n",
    "plt.figure(figsize=(8,8))\n",
    "explode = [0.005] * len(cancelled_data['market_segment'].unique())\n",
    "colors = ['royalblue','orange','y','darkgreen','gray','purple','red','lightblue']\n",
    "plt.pie(cancelled_data['market_segment'].value_counts(),\n",
    "       autopct = '%.1f%%',\n",
    "       explode = explode,\n",
    "       colors = colors)\n",
    "plt.legend(cancelled_data['market_segment'].unique(), bbox_to_anchor=(-0.1, 1.),\n",
    "           fontsize=14)\n",
    "plt.title('Market Segment vs Cancelled Bookings')\n",
    "plt.tight_layout()\n",
    "plt.show()"
   ]
  },
  {
   "cell_type": "code",
   "execution_count": 31,
   "metadata": {},
   "outputs": [
    {
     "data": {
      "image/png": "[encoded data removed]",
      "text/plain": [
       "<Figure size 576x432 with 1 Axes>"
      ]
     },
     "metadata": {},
     "output_type": "display_data"
    }
   ],
   "source": [
    "plt.figure(figsize=(8,6))\n",
    "hotel_df.corr()['is_canceled'].sort_values()[:-1].plot(kind='bar')\n",
    "plt.show()\n"
   ]
  },
  {
   "cell_type": "code",
   "execution_count": 32,
   "metadata": {},
   "outputs": [
    {
     "data": {
      "image/png": "[encoded data removed]",
      "text/plain": [
       "<Figure size 864x720 with 4 Axes>"
      ]
     },
     "metadata": {},
     "output_type": "display_data"
    }
   ],
   "source": [
    "plt.figure(figsize=(12,10))\n",
    "plt.subplot(221)\n",
    "sns.countplot(hotel_df['meal'], hue=hotel_df['is_canceled'])\n",
    "plt.xlabel('Meal Type')\n",
    "plt.subplot(222)\n",
    "sns.countplot(hotel_df['customer_type'], hue=hotel_df['is_canceled'])\n",
    "plt.xlabel('Customer Type')\n",
    "plt.subplot(223)\n",
    "sns.countplot(hotel_df['reserved_room_type'], hue=hotel_df['is_canceled'])\n",
    "plt.xlabel('Reserved Room Type')\n",
    "plt.subplot(224)\n",
    "sns.countplot(hotel_df['reservation_status'], hue=hotel_df['is_canceled'])\n",
    "plt.xlabel('Reservation Status')\n",
    "plt.show()"
   ]
  },
  {
   "cell_type": "code",
   "execution_count": 33,
   "metadata": {},
   "outputs": [],
   "source": [
    "# convert to dummy variables\n",
    "hotel_df = hotel_df.drop(['meal','country','reserved_room_type','assigned_room_type','deposit_type','reservation_status','reservation_status_date','arrival_date'], axis=1)"
   ]
  },
  {
   "cell_type": "code",
   "execution_count": 34,
   "metadata": {},
   "outputs": [],
   "source": [
    "hotel_df = pd.concat([hotel_df, \n",
    "                 pd.get_dummies(hotel_df['hotel'], drop_first=True), \n",
    "                 pd.get_dummies(hotel_df['arrival_date_month'], drop_first=True), \n",
    "                 pd.get_dummies(hotel_df['market_segment'], drop_first=True),\n",
    "                 pd.get_dummies(hotel_df['distribution_channel'], drop_first=True),\n",
    "                 pd.get_dummies(hotel_df['customer_type'], drop_first=True)\n",
    "                 ], axis=1)\n",
    "hotel_df = hotel_df.drop(['hotel','arrival_date_month','market_segment','distribution_channel','customer_type'], axis=1)"
   ]
  },
  {
   "cell_type": "code",
   "execution_count": 35,
   "metadata": {},
   "outputs": [
    {
     "name": "stdout",
     "output_type": "stream",
     "text": [
      "<class 'pandas.core.frame.DataFrame'>\n",
      "RangeIndex: 98448 entries, 0 to 98447\n",
      "Data columns (total 44 columns):\n",
      " #   Column                          Non-Null Count  Dtype  \n",
      "---  ------                          --------------  -----  \n",
      " 0   is_canceled                     98448 non-null  int64  \n",
      " 1   lead_time                       98448 non-null  int64  \n",
      " 2   arrival_date_year               98448 non-null  int64  \n",
      " 3   arrival_date_week_number        98448 non-null  int64  \n",
      " 4   arrival_date_day_of_month       98448 non-null  int64  \n",
      " 5   stays_in_weekend_nights         98448 non-null  int64  \n",
      " 6   stays_in_week_nights            98448 non-null  int64  \n",
      " 7   adults                          98448 non-null  int64  \n",
      " 8   children                        98448 non-null  float64\n",
      " 9   babies                          98448 non-null  int64  \n",
      " 10  is_repeated_guest               98448 non-null  int64  \n",
      " 11  previous_cancellations          98448 non-null  int64  \n",
      " 12  previous_bookings_not_canceled  98448 non-null  int64  \n",
      " 13  booking_changes                 98448 non-null  int64  \n",
      " 14  days_in_waiting_list            98448 non-null  int64  \n",
      " 15  adr                             98448 non-null  float64\n",
      " 16  required_car_parking_spaces     98448 non-null  int64  \n",
      " 17  total_of_special_requests       98448 non-null  int64  \n",
      " 18  Resort Hotel                    98448 non-null  uint8  \n",
      " 19  August                          98448 non-null  uint8  \n",
      " 20  December                        98448 non-null  uint8  \n",
      " 21  February                        98448 non-null  uint8  \n",
      " 22  January                         98448 non-null  uint8  \n",
      " 23  July                            98448 non-null  uint8  \n",
      " 24  June                            98448 non-null  uint8  \n",
      " 25  March                           98448 non-null  uint8  \n",
      " 26  May                             98448 non-null  uint8  \n",
      " 27  November                        98448 non-null  uint8  \n",
      " 28  October                         98448 non-null  uint8  \n",
      " 29  September                       98448 non-null  uint8  \n",
      " 30  Complementary                   98448 non-null  uint8  \n",
      " 31  Corporate                       98448 non-null  uint8  \n",
      " 32  Direct                          98448 non-null  uint8  \n",
      " 33  Groups                          98448 non-null  uint8  \n",
      " 34  Offline TA/TO                   98448 non-null  uint8  \n",
      " 35  Online TA                       98448 non-null  uint8  \n",
      " 36  Undefined                       98448 non-null  uint8  \n",
      " 37  Direct                          98448 non-null  uint8  \n",
      " 38  GDS                             98448 non-null  uint8  \n",
      " 39  TA/TO                           98448 non-null  uint8  \n",
      " 40  Undefined                       98448 non-null  uint8  \n",
      " 41  Group                           98448 non-null  uint8  \n",
      " 42  Transient                       98448 non-null  uint8  \n",
      " 43  Transient-Party                 98448 non-null  uint8  \n",
      "dtypes: float64(2), int64(16), uint8(26)\n",
      "memory usage: 16.0 MB\n"
     ]
    }
   ],
   "source": [
    "hotel_df.info()"
   ]
  },
  {
   "cell_type": "markdown",
   "metadata": {},
   "source": [
    "# DATA MODELING"
   ]
  },
  {
   "cell_type": "code",
   "execution_count": 36,
   "metadata": {},
   "outputs": [],
   "source": [
    "X = hotel_df.iloc[:, 1:].values\n",
    "y = hotel_df.iloc[:, 0].values"
   ]
  },
  {
   "cell_type": "code",
   "execution_count": 37,
   "metadata": {},
   "outputs": [],
   "source": [
    "from sklearn.model_selection import train_test_split\n",
    "X_train, X_test, y_train, y_test = train_test_split(X, y, test_size = 0.25, random_state = 0)"
   ]
  },
  {
   "cell_type": "code",
   "execution_count": 38,
   "metadata": {},
   "outputs": [
    {
     "data": {
      "text/plain": [
       "(24612, 43)"
      ]
     },
     "execution_count": 38,
     "metadata": {},
     "output_type": "execute_result"
    }
   ],
   "source": [
    "X_test.shape"
   ]
  },
  {
   "cell_type": "code",
   "execution_count": 39,
   "metadata": {},
   "outputs": [],
   "source": [
    "#Feature Scaling\n",
    "from sklearn.preprocessing import StandardScaler\n",
    "scaler = StandardScaler()\n",
    "X_train = scaler.fit_transform(X_train)\n",
    "X_test = scaler.transform(X_test)"
   ]
  },
  {
   "cell_type": "code",
   "execution_count": 40,
   "metadata": {},
   "outputs": [],
   "source": [
    " # Empty dictionary of model accuracy results\n",
    "model_accuracy_results = {}\n",
    "\n",
    "# Function for calculating accuracy from confusion matrix\n",
    "from sklearn.metrics import confusion_matrix\n",
    "def model_accuracy(y_test, y_pred):\n",
    "    cm = confusion_matrix(y_test, y_pred)\n",
    "    accuracy = ((cm[0,0] + cm [1,1]) * 100 / len(y_test)).round(2)\n",
    "    return accuracy"
   ]
  },
  {
   "cell_type": "markdown",
   "metadata": {},
   "source": [
    "#### KNN Classifier"
   ]
  },
  {
   "cell_type": "code",
   "execution_count": 41,
   "metadata": {},
   "outputs": [],
   "source": [
    "# Fit and train\n",
    "from sklearn.neighbors import KNeighborsClassifier\n",
    "classifier = KNeighborsClassifier(n_neighbors = 10)\n",
    "classifier.fit(X_train,y_train)\n",
    "\n",
    "# Predict\n",
    "y_pred = classifier.predict(X_test)\n",
    "\n",
    "# Computing accuracy\n",
    "model_accuracy_results['KNearestNeighbors'] = model_accuracy(y_test, y_pred)"
   ]
  },
  {
   "cell_type": "code",
   "execution_count": 42,
   "metadata": {
    "scrolled": false
   },
   "outputs": [
    {
     "data": {
      "text/plain": [
       "array([[11839,  1687],\n",
       "       [ 3154,  7932]], dtype=int64)"
      ]
     },
     "execution_count": 42,
     "metadata": {},
     "output_type": "execute_result"
    }
   ],
   "source": [
    "from sklearn.metrics import confusion_matrix\n",
    "confusion_matrix(y_test,y_pred)"
   ]
  },
  {
   "cell_type": "markdown",
   "metadata": {},
   "source": [
    "#### Random Forest Classifier"
   ]
  },
  {
   "cell_type": "code",
   "execution_count": 43,
   "metadata": {},
   "outputs": [],
   "source": [
    "# Fit and train\n",
    "from sklearn.ensemble import RandomForestClassifier\n",
    "classifier = RandomForestClassifier(n_estimators=10, criterion='entropy', random_state=0)\n",
    "classifier.fit(X_train,y_train)\n",
    "\n",
    "# Predict\n",
    "y_pred = classifier.predict(X_test)\n",
    "\n",
    "# Computing accuracy\n",
    "model_accuracy_results['RandomForest'] = model_accuracy(y_test, y_pred)"
   ]
  },
  {
   "cell_type": "code",
   "execution_count": 44,
   "metadata": {
    "scrolled": true
   },
   "outputs": [
    {
     "data": {
      "text/html": [
       "<div>\n",
       "<style scoped>\n",
       "    .dataframe tbody tr th:only-of-type {\n",
       "        vertical-align: middle;\n",
       "    }\n",
       "\n",
       "    .dataframe tbody tr th {\n",
       "        vertical-align: top;\n",
       "    }\n",
       "\n",
       "    .dataframe thead th {\n",
       "        text-align: right;\n",
       "    }\n",
       "</style>\n",
       "<table border=\"1\" class=\"dataframe\">\n",
       "  <thead>\n",
       "    <tr style=\"text-align: right;\">\n",
       "      <th></th>\n",
       "      <th>Accuracy</th>\n",
       "    </tr>\n",
       "  </thead>\n",
       "  <tbody>\n",
       "    <tr>\n",
       "      <th>KNearestNeighbors</th>\n",
       "      <td>80.33</td>\n",
       "    </tr>\n",
       "    <tr>\n",
       "      <th>RandomForest</th>\n",
       "      <td>86.44</td>\n",
       "    </tr>\n",
       "  </tbody>\n",
       "</table>\n",
       "</div>"
      ],
      "text/plain": [
       "                   Accuracy\n",
       "KNearestNeighbors     80.33\n",
       "RandomForest          86.44"
      ]
     },
     "execution_count": 44,
     "metadata": {},
     "output_type": "execute_result"
    }
   ],
   "source": [
    "df_model_accuracies = pd.DataFrame(list(model_accuracy_results.values()), index=model_accuracy_results.keys(), columns=['Accuracy'])\n",
    "df_model_accuracies"
   ]
  },
  {
   "cell_type": "markdown",
   "metadata": {},
   "source": [
    "# Tuning the parameters"
   ]
  },
  {
   "cell_type": "code",
   "execution_count": 45,
   "metadata": {},
   "outputs": [
    {
     "data": {
      "text/plain": [
       "GridSearchCV(cv=None, error_score=nan,\n",
       "             estimator=RandomForestClassifier(bootstrap=True, ccp_alpha=0.0,\n",
       "                                              class_weight=None,\n",
       "                                              criterion='gini', max_depth=None,\n",
       "                                              max_features='auto',\n",
       "                                              max_leaf_nodes=None,\n",
       "                                              max_samples=None,\n",
       "                                              min_impurity_decrease=0.0,\n",
       "                                              min_impurity_split=None,\n",
       "                                              min_samples_leaf=1,\n",
       "                                              min_samples_split=2,\n",
       "                                              min_weight_fraction_leaf=0.0,\n",
       "                                              n_estimators=100, n_jobs=None,\n",
       "                                              oob_score=False,\n",
       "                                              random_state=None, verbose=0,\n",
       "                                              warm_start=False),\n",
       "             iid='deprecated', n_jobs=-1,\n",
       "             param_grid=[{'criterion': ['entropy', 'gini'],\n",
       "                          'n_estimators': [10, 25, 50, 100, 500]}],\n",
       "             pre_dispatch='2*n_jobs', refit=True, return_train_score=False,\n",
       "             scoring='accuracy', verbose=0)"
      ]
     },
     "execution_count": 45,
     "metadata": {},
     "output_type": "execute_result"
    }
   ],
   "source": [
    "# Grid Search\n",
    "from sklearn.model_selection import GridSearchCV\n",
    "parameters = [{'n_estimators': [10,25,50,100,500] , 'criterion': ['entropy', 'gini']}]\n",
    "randomforestclassifier = RandomForestClassifier()\n",
    "grid_search = GridSearchCV(estimator = randomforestclassifier,\n",
    "                           param_grid = parameters,\n",
    "                           scoring = 'accuracy',\n",
    "                           n_jobs = -1)\n",
    "grid_search.fit(X_train, y_train)"
   ]
  },
  {
   "cell_type": "code",
   "execution_count": 46,
   "metadata": {},
   "outputs": [
    {
     "name": "stdout",
     "output_type": "stream",
     "text": [
      "Best Score:  0.87\n",
      "Best Parameters:  {'criterion': 'gini', 'n_estimators': 500}\n"
     ]
    }
   ],
   "source": [
    "print('Best Score: ', grid_search.best_score_.round(2))\n",
    "print('Best Parameters: ', grid_search.best_params_)"
   ]
  },
  {
   "cell_type": "code",
   "execution_count": 47,
   "metadata": {},
   "outputs": [],
   "source": [
    "# Fit and train\n",
    "optimized_classifier = RandomForestClassifier(n_estimators=500, criterion='entropy', random_state=0)\n",
    "optimized_classifier.fit(X_train,y_train)\n",
    "\n",
    "# Predict\n",
    "y_pred = optimized_classifier.predict(X_test)\n",
    "\n",
    "# Computing accuracy\n",
    "model_accuracy_results['OptimizedRandomForest'] = model_accuracy(y_test, y_pred)"
   ]
  },
  {
   "cell_type": "code",
   "execution_count": 48,
   "metadata": {},
   "outputs": [
    {
     "data": {
      "text/html": [
       "<div>\n",
       "<style scoped>\n",
       "    .dataframe tbody tr th:only-of-type {\n",
       "        vertical-align: middle;\n",
       "    }\n",
       "\n",
       "    .dataframe tbody tr th {\n",
       "        vertical-align: top;\n",
       "    }\n",
       "\n",
       "    .dataframe thead th {\n",
       "        text-align: right;\n",
       "    }\n",
       "</style>\n",
       "<table border=\"1\" class=\"dataframe\">\n",
       "  <thead>\n",
       "    <tr style=\"text-align: right;\">\n",
       "      <th></th>\n",
       "      <th>Accuracy</th>\n",
       "    </tr>\n",
       "  </thead>\n",
       "  <tbody>\n",
       "    <tr>\n",
       "      <th>KNearestNeighbors</th>\n",
       "      <td>80.33</td>\n",
       "    </tr>\n",
       "    <tr>\n",
       "      <th>RandomForest</th>\n",
       "      <td>86.44</td>\n",
       "    </tr>\n",
       "    <tr>\n",
       "      <th>OptimizedRandomForest</th>\n",
       "      <td>87.58</td>\n",
       "    </tr>\n",
       "  </tbody>\n",
       "</table>\n",
       "</div>"
      ],
      "text/plain": [
       "                       Accuracy\n",
       "KNearestNeighbors         80.33\n",
       "RandomForest              86.44\n",
       "OptimizedRandomForest     87.58"
      ]
     },
     "execution_count": 48,
     "metadata": {},
     "output_type": "execute_result"
    }
   ],
   "source": [
    "df_model_accuracies = pd.DataFrame(list(model_accuracy_results.values()), index=model_accuracy_results.keys(), columns=['Accuracy'])\n",
    "df_model_accuracies"
   ]
  },
  {
   "cell_type": "code",
   "execution_count": 49,
   "metadata": {},
   "outputs": [
    {
     "data": {
      "text/plain": [
       "<matplotlib.axes._subplots.AxesSubplot at 0x1f6a15f46a0>"
      ]
     },
     "execution_count": 49,
     "metadata": {},
     "output_type": "execute_result"
    },
    {
     "data": {
      "image/png": "[encoded data removed]",
      "text/plain": [
       "<Figure size 432x288 with 2 Axes>"
      ]
     },
     "metadata": {},
     "output_type": "display_data"
    }
   ],
   "source": [
    "orf_cm = confusion_matrix(y_test, optimized_classifier.predict(X_test))\n",
    "\n",
    "names = ['True Neg','False Pos','False Neg','True Pos'] # list of descriptions for each group\n",
    "values = [value for value in orf_cm.flatten()] # list of values for each group\n",
    "percentages = [str(perc.round(2))+'%' for perc in orf_cm.flatten()*100/np.sum(orf_cm)] # list of percentages for each group\n",
    "labels = [f\"{v1}\\n{v2}\\n{v3}\" for v1, v2, v3 in zip(names,values,percentages)] # zip them into list of strings as labels\n",
    "labels = np.asarray(labels).reshape(2,2)\n",
    "sns.heatmap(orf_cm, annot=labels, fmt='', cmap='binary')"
   ]
  },
  {
   "cell_type": "code",
   "execution_count": null,
   "metadata": {},
   "outputs": [],
   "source": []
  },
  {
   "cell_type": "code",
   "execution_count": null,
   "metadata": {},
   "outputs": [],
   "source": []
  }
 ],
 "metadata": {
  "kernelspec": {
   "display_name": "Python 3",
   "language": "python",
   "name": "python3"
  },
  "language_info": {
   "codemirror_mode": {
    "name": "ipython",
    "version": 3
   },
   "file_extension": ".py",
   "mimetype": "text/x-python",
   "name": "python",
   "nbconvert_exporter": "python",
   "pygments_lexer": "ipython3",
   "version": "3.7.3"
  }
 },
 "nbformat": 4,
 "nbformat_minor": 4
}
